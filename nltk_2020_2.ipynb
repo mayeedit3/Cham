{
  "nbformat": 4,
  "nbformat_minor": 0,
  "metadata": {
    "colab": {
      "name": "nltk_2020_2.ipynb",
      "provenance": [],
      "authorship_tag": "ABX9TyOZA/oh4Dqa0Lag/DrHE1Pw",
      "include_colab_link": true
    },
    "kernelspec": {
      "name": "python3",
      "display_name": "Python 3"
    }
  },
  "cells": [
    {
      "cell_type": "markdown",
      "metadata": {
        "id": "view-in-github",
        "colab_type": "text"
      },
      "source": [
        "<a href=\"https://colab.research.google.com/github/mayeedit3/Cham/blob/master/nltk_2020_2.ipynb\" target=\"_parent\"><img src=\"https://colab.research.google.com/assets/colab-badge.svg\" alt=\"Open In Colab\"/></a>"
      ]
    },
    {
      "cell_type": "code",
      "metadata": {
        "id": "MHddYoLHolxI",
        "colab_type": "code",
        "colab": {
          "base_uri": "https://localhost:8080/",
          "height": 607
        },
        "outputId": "80c6eb24-9f08-49a7-fc38-783fa3926e30"
      },
      "source": [
        "import nltk\n",
        "from nltk.corpus import state_union\n",
        "from nltk.tokenize import PunktSentenceTokenizer\n",
        "nltk.download('state_union')\n",
        "nltk.download('punkt')\n",
        "nltk.download('averaged_perceptron_tagger')\n",
        "train_text = state_union.raw(\"2005-GWBush.txt\")\n",
        "sample_text = state_union.raw(\"2006-GWBush.txt\")\n",
        "\n",
        "custom_sent_tokenizer = PunktSentenceTokenizer(train_text)\n",
        "\n",
        "tokenized = custom_sent_tokenizer.tokenize(sample_text)\n",
        "\n",
        "def process_content():\n",
        "    try:\n",
        "        for i in tokenized:\n",
        "            words = nltk.word_tokenize(i)\n",
        "            tagged = nltk.pos_tag(words)\n",
        "            chunkGram = r\"\"\"Chunk: {<RB.?>*<VB.?>*<NNP>+<NN>?}\"\"\"\n",
        "            chunkParser = nltk.RegexpParser(chunkGram)\n",
        "            chunked = chunkParser.parse(tagged)\n",
        "            \n",
        "            print(chunked)\n",
        "            for subtree in chunked.subtrees(filter=lambda t: t.label() == 'Chunk'):\n",
        "                print(subtree)\n",
        "\n",
        "            chunked.draw()\n",
        "\n",
        "    except Exception as e:\n",
        "        print(str(e))\n",
        "\n",
        "process_content()"
      ],
      "execution_count": 4,
      "outputs": [
        {
          "output_type": "stream",
          "text": [
            "[nltk_data] Downloading package state_union to /root/nltk_data...\n",
            "[nltk_data]   Package state_union is already up-to-date!\n",
            "[nltk_data] Downloading package punkt to /root/nltk_data...\n",
            "[nltk_data]   Package punkt is already up-to-date!\n",
            "[nltk_data] Downloading package averaged_perceptron_tagger to\n",
            "[nltk_data]     /root/nltk_data...\n",
            "[nltk_data]   Unzipping taggers/averaged_perceptron_tagger.zip.\n",
            "(S\n",
            "  (Chunk PRESIDENT/NNP GEORGE/NNP W./NNP BUSH/NNP)\n",
            "  'S/POS\n",
            "  (Chunk ADDRESS/NNP)\n",
            "  BEFORE/IN\n",
            "  (Chunk A/NNP JOINT/NNP SESSION/NNP)\n",
            "  OF/IN\n",
            "  (Chunk THE/NNP CONGRESS/NNP ON/NNP THE/NNP STATE/NNP)\n",
            "  OF/IN\n",
            "  (Chunk THE/NNP UNION/NNP January/NNP)\n",
            "  31/CD\n",
            "  ,/,\n",
            "  2006/CD\n",
            "  (Chunk THE/NNP PRESIDENT/NNP)\n",
            "  :/:\n",
            "  (Chunk Thank/NNP)\n",
            "  you/PRP\n",
            "  all/DT\n",
            "  ./.)\n",
            "(Chunk PRESIDENT/NNP GEORGE/NNP W./NNP BUSH/NNP)\n",
            "(Chunk ADDRESS/NNP)\n",
            "(Chunk A/NNP JOINT/NNP SESSION/NNP)\n",
            "(Chunk THE/NNP CONGRESS/NNP ON/NNP THE/NNP STATE/NNP)\n",
            "(Chunk THE/NNP UNION/NNP January/NNP)\n",
            "(Chunk THE/NNP PRESIDENT/NNP)\n",
            "(Chunk Thank/NNP)\n",
            "no display name and no $DISPLAY environment variable\n"
          ],
          "name": "stdout"
        }
      ]
    }
  ]
}